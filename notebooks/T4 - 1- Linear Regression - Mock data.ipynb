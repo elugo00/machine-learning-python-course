{
 "cells": [
  {
   "cell_type": "markdown",
   "metadata": {},
   "source": [
    "# Modelos de regresión lineal\n",
    "## Modelo con datos simulados\n",
    "* y = a + b * x\n",
    "* X : 100 valores distribuídos según una normal N(1.5, 2.5) [Normal(media, desv_est)]\n",
    "* Ye = 5 + 1.9 * x + e\n",
    "* e: estará distribuída sgún una N(0, 0.8)"
   ]
  },
  {
   "cell_type": "code",
   "execution_count": 33,
   "metadata": {},
   "outputs": [],
   "source": [
    "import pandas as pd\n",
    "import numpy as np"
   ]
  },
  {
   "cell_type": "code",
   "execution_count": 34,
   "metadata": {},
   "outputs": [],
   "source": [
    "# Obtener x\n",
    "x =  1.5 + 2.5 * np.random.randn(100)"
   ]
  },
  {
   "cell_type": "code",
   "execution_count": 35,
   "metadata": {},
   "outputs": [],
   "source": [
    "res = 0.8 * np.random.randn(100)"
   ]
  },
  {
   "cell_type": "code",
   "execution_count": 114,
   "metadata": {},
   "outputs": [],
   "source": [
    "a = 5"
   ]
  },
  {
   "cell_type": "code",
   "execution_count": 115,
   "metadata": {},
   "outputs": [],
   "source": [
    "b = 0.3"
   ]
  },
  {
   "cell_type": "code",
   "execution_count": 116,
   "metadata": {},
   "outputs": [],
   "source": [
    "y_pred = a + b * x"
   ]
  },
  {
   "cell_type": "code",
   "execution_count": 117,
   "metadata": {},
   "outputs": [],
   "source": [
    "y = a + b * x + res"
   ]
  },
  {
   "cell_type": "code",
   "execution_count": 118,
   "metadata": {},
   "outputs": [],
   "source": [
    "x_lst = x.tolist()\n",
    "y_pred_lst = y_pred.tolist()\n",
    "y_lst = y.tolist()"
   ]
  },
  {
   "cell_type": "code",
   "execution_count": 119,
   "metadata": {},
   "outputs": [],
   "source": [
    "data = pd.DataFrame(\n",
    "{\n",
    "    \"x\":x_lst,\n",
    "    \"y\":y_lst,\n",
    "    \"y_pred\":y_pred_lst\n",
    "}\n",
    ")"
   ]
  },
  {
   "cell_type": "code",
   "execution_count": 120,
   "metadata": {},
   "outputs": [
    {
     "data": {
      "text/html": [
       "<div>\n",
       "<style scoped>\n",
       "    .dataframe tbody tr th:only-of-type {\n",
       "        vertical-align: middle;\n",
       "    }\n",
       "\n",
       "    .dataframe tbody tr th {\n",
       "        vertical-align: top;\n",
       "    }\n",
       "\n",
       "    .dataframe thead th {\n",
       "        text-align: right;\n",
       "    }\n",
       "</style>\n",
       "<table border=\"1\" class=\"dataframe\">\n",
       "  <thead>\n",
       "    <tr style=\"text-align: right;\">\n",
       "      <th></th>\n",
       "      <th>x</th>\n",
       "      <th>y</th>\n",
       "      <th>y_pred</th>\n",
       "    </tr>\n",
       "  </thead>\n",
       "  <tbody>\n",
       "    <tr>\n",
       "      <th>0</th>\n",
       "      <td>4.673772</td>\n",
       "      <td>7.034871</td>\n",
       "      <td>6.402132</td>\n",
       "    </tr>\n",
       "    <tr>\n",
       "      <th>1</th>\n",
       "      <td>1.797187</td>\n",
       "      <td>6.602412</td>\n",
       "      <td>5.539156</td>\n",
       "    </tr>\n",
       "    <tr>\n",
       "      <th>2</th>\n",
       "      <td>1.259776</td>\n",
       "      <td>4.528597</td>\n",
       "      <td>5.377933</td>\n",
       "    </tr>\n",
       "    <tr>\n",
       "      <th>3</th>\n",
       "      <td>2.815803</td>\n",
       "      <td>7.044855</td>\n",
       "      <td>5.844741</td>\n",
       "    </tr>\n",
       "    <tr>\n",
       "      <th>4</th>\n",
       "      <td>2.230057</td>\n",
       "      <td>3.968952</td>\n",
       "      <td>5.669017</td>\n",
       "    </tr>\n",
       "  </tbody>\n",
       "</table>\n",
       "</div>"
      ],
      "text/plain": [
       "          x         y    y_pred\n",
       "0  4.673772  7.034871  6.402132\n",
       "1  1.797187  6.602412  5.539156\n",
       "2  1.259776  4.528597  5.377933\n",
       "3  2.815803  7.044855  5.844741\n",
       "4  2.230057  3.968952  5.669017"
      ]
     },
     "execution_count": 120,
     "metadata": {},
     "output_type": "execute_result"
    }
   ],
   "source": [
    "data.head()"
   ]
  },
  {
   "cell_type": "code",
   "execution_count": 121,
   "metadata": {},
   "outputs": [],
   "source": [
    "import matplotlib.pyplot as plt"
   ]
  },
  {
   "cell_type": "code",
   "execution_count": 122,
   "metadata": {},
   "outputs": [],
   "source": [
    "y_mean = [np.mean(y) for i in range(1,len(x_lst) + 1)]"
   ]
  },
  {
   "cell_type": "code",
   "execution_count": 123,
   "metadata": {},
   "outputs": [
    {
     "data": {
      "text/plain": [
       "Text(0.5,1,'Valor actual  vs Predicción')"
      ]
     },
     "execution_count": 123,
     "metadata": {},
     "output_type": "execute_result"
    },
    {
     "data": {
      "image/png": "[encoded data removed]",
      "text/plain": [
       "<Figure size 432x288 with 1 Axes>"
      ]
     },
     "metadata": {},
     "output_type": "display_data"
    }
   ],
   "source": [
    "%matplotlib inline\n",
    "plt.plot(data[\"x\"],data[\"y_pred\"])\n",
    "plt.plot(data[\"x\"],data[\"y\"], \"ro\")\n",
    "plt.plot(data[\"x\"], y_mean, \"g\")\n",
    "plt.title(\"Valor actual  vs Predicción\")"
   ]
  },
  {
   "cell_type": "markdown",
   "metadata": {},
   "source": [
    "#### Incorporar al data frame:\n",
    "* SSR (suma de los cuadrados de la regresión)\n",
    "* SSD (suma de los cuadrados de la diferencia)\n",
    "* SST (suma de los cuadrados totales)"
   ]
  },
  {
   "cell_type": "code",
   "execution_count": 124,
   "metadata": {},
   "outputs": [],
   "source": [
    "data[\"SSR\"] = (data[\"y_pred\"] - np.mean(y))**2\n",
    "data[\"SSD\"] = (data[\"y_pred\"] - data[\"y\"])**2\n",
    "data[\"SST\"] = (data[\"y\"] - np.mean(y))**2"
   ]
  },
  {
   "cell_type": "code",
   "execution_count": 125,
   "metadata": {},
   "outputs": [
    {
     "data": {
      "text/html": [
       "<div>\n",
       "<style scoped>\n",
       "    .dataframe tbody tr th:only-of-type {\n",
       "        vertical-align: middle;\n",
       "    }\n",
       "\n",
       "    .dataframe tbody tr th {\n",
       "        vertical-align: top;\n",
       "    }\n",
       "\n",
       "    .dataframe thead th {\n",
       "        text-align: right;\n",
       "    }\n",
       "</style>\n",
       "<table border=\"1\" class=\"dataframe\">\n",
       "  <thead>\n",
       "    <tr style=\"text-align: right;\">\n",
       "      <th></th>\n",
       "      <th>x</th>\n",
       "      <th>y</th>\n",
       "      <th>y_pred</th>\n",
       "      <th>SSR</th>\n",
       "      <th>SSD</th>\n",
       "      <th>SST</th>\n",
       "    </tr>\n",
       "  </thead>\n",
       "  <tbody>\n",
       "    <tr>\n",
       "      <th>0</th>\n",
       "      <td>4.673772</td>\n",
       "      <td>7.034871</td>\n",
       "      <td>6.402132</td>\n",
       "      <td>0.672106</td>\n",
       "      <td>0.400359</td>\n",
       "      <td>2.109931</td>\n",
       "    </tr>\n",
       "    <tr>\n",
       "      <th>1</th>\n",
       "      <td>1.797187</td>\n",
       "      <td>6.602412</td>\n",
       "      <td>5.539156</td>\n",
       "      <td>0.001862</td>\n",
       "      <td>1.130513</td>\n",
       "      <td>1.040606</td>\n",
       "    </tr>\n",
       "    <tr>\n",
       "      <th>2</th>\n",
       "      <td>1.259776</td>\n",
       "      <td>4.528597</td>\n",
       "      <td>5.377933</td>\n",
       "      <td>0.041770</td>\n",
       "      <td>0.721371</td>\n",
       "      <td>1.110312</td>\n",
       "    </tr>\n",
       "    <tr>\n",
       "      <th>3</th>\n",
       "      <td>2.815803</td>\n",
       "      <td>7.044855</td>\n",
       "      <td>5.844741</td>\n",
       "      <td>0.068870</td>\n",
       "      <td>1.440274</td>\n",
       "      <td>2.139036</td>\n",
       "    </tr>\n",
       "    <tr>\n",
       "      <th>4</th>\n",
       "      <td>2.230057</td>\n",
       "      <td>3.968952</td>\n",
       "      <td>5.669017</td>\n",
       "      <td>0.007518</td>\n",
       "      <td>2.890220</td>\n",
       "      <td>2.602926</td>\n",
       "    </tr>\n",
       "  </tbody>\n",
       "</table>\n",
       "</div>"
      ],
      "text/plain": [
       "          x         y    y_pred       SSR       SSD       SST\n",
       "0  4.673772  7.034871  6.402132  0.672106  0.400359  2.109931\n",
       "1  1.797187  6.602412  5.539156  0.001862  1.130513  1.040606\n",
       "2  1.259776  4.528597  5.377933  0.041770  0.721371  1.110312\n",
       "3  2.815803  7.044855  5.844741  0.068870  1.440274  2.139036\n",
       "4  2.230057  3.968952  5.669017  0.007518  2.890220  2.602926"
      ]
     },
     "execution_count": 125,
     "metadata": {},
     "output_type": "execute_result"
    }
   ],
   "source": [
    "data.head()"
   ]
  },
  {
   "cell_type": "code",
   "execution_count": 126,
   "metadata": {},
   "outputs": [],
   "source": [
    "SSR = sum(data[\"SSR\"])\n",
    "SSD = sum(data[\"SSD\"])\n",
    "SST = sum(data[\"SST\"])"
   ]
  },
  {
   "cell_type": "code",
   "execution_count": 127,
   "metadata": {},
   "outputs": [
    {
     "data": {
      "text/plain": [
       "61.31074486229991"
      ]
     },
     "execution_count": 127,
     "metadata": {},
     "output_type": "execute_result"
    }
   ],
   "source": [
    "SSR"
   ]
  },
  {
   "cell_type": "code",
   "execution_count": 128,
   "metadata": {},
   "outputs": [
    {
     "data": {
      "text/plain": [
       "72.50503982835113"
      ]
     },
     "execution_count": 128,
     "metadata": {},
     "output_type": "execute_result"
    }
   ],
   "source": [
    "SSD"
   ]
  },
  {
   "cell_type": "code",
   "execution_count": 129,
   "metadata": {},
   "outputs": [
    {
     "data": {
      "text/plain": [
       "147.96244413200017"
      ]
     },
     "execution_count": 129,
     "metadata": {},
     "output_type": "execute_result"
    }
   ],
   "source": [
    "SST"
   ]
  },
  {
   "cell_type": "code",
   "execution_count": 130,
   "metadata": {},
   "outputs": [
    {
     "data": {
      "text/plain": [
       "133.81578469065104"
      ]
     },
     "execution_count": 130,
     "metadata": {},
     "output_type": "execute_result"
    }
   ],
   "source": [
    "SSR + SSD"
   ]
  },
  {
   "cell_type": "code",
   "execution_count": 131,
   "metadata": {},
   "outputs": [],
   "source": [
    "R2 = SSR/SST"
   ]
  },
  {
   "cell_type": "code",
   "execution_count": 132,
   "metadata": {},
   "outputs": [
    {
     "data": {
      "text/plain": [
       "0.41436693765076904"
      ]
     },
     "execution_count": 132,
     "metadata": {},
     "output_type": "execute_result"
    }
   ],
   "source": [
    "R2"
   ]
  },
  {
   "cell_type": "code",
   "execution_count": 133,
   "metadata": {},
   "outputs": [
    {
     "data": {
      "text/plain": [
       "(array([ 1.,  0.,  2., 14., 16., 21., 22., 14.,  7.,  3.]),\n",
       " array([-2.8411579 , -2.35022227, -1.85928665, -1.36835103, -0.8774154 ,\n",
       "        -0.38647978,  0.10445585,  0.59539147,  1.08632709,  1.57726272,\n",
       "         2.06819834]),\n",
       " <a list of 10 Patch objects>)"
      ]
     },
     "execution_count": 133,
     "metadata": {},
     "output_type": "execute_result"
    },
    {
     "data": {
      "image/png": "[encoded data removed]",
      "text/plain": [
       "<Figure size 432x288 with 1 Axes>"
      ]
     },
     "metadata": {},
     "output_type": "display_data"
    }
   ],
   "source": [
    "plt.hist(data[\"y_pred\"] - data[\"y\"])"
   ]
  },
  {
   "cell_type": "markdown",
   "metadata": {},
   "source": [
    "### Obteniendo la recta de regresión\n",
    "* y = a + b * x\n",
    "* b = sum((xi - x_m) * (yi - y_m)) / sum((xi - x_m)\"2)\n",
    "* a = y_m - b * x_m"
   ]
  },
  {
   "cell_type": "code",
   "execution_count": 134,
   "metadata": {},
   "outputs": [
    {
     "data": {
      "text/plain": [
       "(1.8850478815461957, 5.582310785184846)"
      ]
     },
     "execution_count": 134,
     "metadata": {},
     "output_type": "execute_result"
    }
   ],
   "source": [
    "x_mean = np.mean(data[\"x\"])\n",
    "y_mean = np.mean(data[\"y\"])\n",
    "x_mean, y_mean"
   ]
  },
  {
   "cell_type": "code",
   "execution_count": 135,
   "metadata": {},
   "outputs": [],
   "source": [
    "data[\"beta_n\"] = (data[\"x\"] - x_mean) * (data[\"y\"] - y_mean)\n",
    "data[\"beta_d\"] = (data[\"x\"] - x_mean)**2"
   ]
  },
  {
   "cell_type": "code",
   "execution_count": 136,
   "metadata": {},
   "outputs": [],
   "source": [
    "beta = sum(data[\"beta_n\"]) / sum(data[\"beta_d\"])"
   ]
  },
  {
   "cell_type": "code",
   "execution_count": 137,
   "metadata": {},
   "outputs": [],
   "source": [
    "alpha = y_mean - beta * x_mean"
   ]
  },
  {
   "cell_type": "code",
   "execution_count": 138,
   "metadata": {},
   "outputs": [
    {
     "data": {
      "text/plain": [
       "(4.951263492340436, 0.334764596179275)"
      ]
     },
     "execution_count": 138,
     "metadata": {},
     "output_type": "execute_result"
    }
   ],
   "source": [
    "alpha, beta"
   ]
  },
  {
   "cell_type": "markdown",
   "metadata": {},
   "source": [
    "#### El modelo lineal obtenido por regresión es: y = 4.951263492340434 + 1.9347645961792743 * x"
   ]
  },
  {
   "cell_type": "code",
   "execution_count": 139,
   "metadata": {},
   "outputs": [],
   "source": [
    "data[\"y_model\"] = alpha + beta * data[\"x\"]"
   ]
  },
  {
   "cell_type": "code",
   "execution_count": 140,
   "metadata": {},
   "outputs": [
    {
     "data": {
      "text/html": [
       "<div>\n",
       "<style scoped>\n",
       "    .dataframe tbody tr th:only-of-type {\n",
       "        vertical-align: middle;\n",
       "    }\n",
       "\n",
       "    .dataframe tbody tr th {\n",
       "        vertical-align: top;\n",
       "    }\n",
       "\n",
       "    .dataframe thead th {\n",
       "        text-align: right;\n",
       "    }\n",
       "</style>\n",
       "<table border=\"1\" class=\"dataframe\">\n",
       "  <thead>\n",
       "    <tr style=\"text-align: right;\">\n",
       "      <th></th>\n",
       "      <th>x</th>\n",
       "      <th>y</th>\n",
       "      <th>y_pred</th>\n",
       "      <th>SSR</th>\n",
       "      <th>SSD</th>\n",
       "      <th>SST</th>\n",
       "      <th>beta_n</th>\n",
       "      <th>beta_d</th>\n",
       "      <th>y_model</th>\n",
       "    </tr>\n",
       "  </thead>\n",
       "  <tbody>\n",
       "    <tr>\n",
       "      <th>0</th>\n",
       "      <td>4.673772</td>\n",
       "      <td>7.034871</td>\n",
       "      <td>6.402132</td>\n",
       "      <td>0.672106</td>\n",
       "      <td>0.400359</td>\n",
       "      <td>2.109931</td>\n",
       "      <td>4.050789</td>\n",
       "      <td>7.776983</td>\n",
       "      <td>6.515877</td>\n",
       "    </tr>\n",
       "    <tr>\n",
       "      <th>1</th>\n",
       "      <td>1.797187</td>\n",
       "      <td>6.602412</td>\n",
       "      <td>5.539156</td>\n",
       "      <td>0.001862</td>\n",
       "      <td>1.130513</td>\n",
       "      <td>1.040606</td>\n",
       "      <td>-0.089627</td>\n",
       "      <td>0.007719</td>\n",
       "      <td>5.552898</td>\n",
       "    </tr>\n",
       "    <tr>\n",
       "      <th>2</th>\n",
       "      <td>1.259776</td>\n",
       "      <td>4.528597</td>\n",
       "      <td>5.377933</td>\n",
       "      <td>0.041770</td>\n",
       "      <td>0.721371</td>\n",
       "      <td>1.110312</td>\n",
       "      <td>0.658857</td>\n",
       "      <td>0.390965</td>\n",
       "      <td>5.372992</td>\n",
       "    </tr>\n",
       "    <tr>\n",
       "      <th>3</th>\n",
       "      <td>2.815803</td>\n",
       "      <td>7.044855</td>\n",
       "      <td>5.844741</td>\n",
       "      <td>0.068870</td>\n",
       "      <td>1.440274</td>\n",
       "      <td>2.139036</td>\n",
       "      <td>1.361270</td>\n",
       "      <td>0.866305</td>\n",
       "      <td>5.893895</td>\n",
       "    </tr>\n",
       "    <tr>\n",
       "      <th>4</th>\n",
       "      <td>2.230057</td>\n",
       "      <td>3.968952</td>\n",
       "      <td>5.669017</td>\n",
       "      <td>0.007518</td>\n",
       "      <td>2.890220</td>\n",
       "      <td>2.602926</td>\n",
       "      <td>-0.556623</td>\n",
       "      <td>0.119031</td>\n",
       "      <td>5.697808</td>\n",
       "    </tr>\n",
       "  </tbody>\n",
       "</table>\n",
       "</div>"
      ],
      "text/plain": [
       "          x         y    y_pred       SSR       SSD       SST    beta_n  \\\n",
       "0  4.673772  7.034871  6.402132  0.672106  0.400359  2.109931  4.050789   \n",
       "1  1.797187  6.602412  5.539156  0.001862  1.130513  1.040606 -0.089627   \n",
       "2  1.259776  4.528597  5.377933  0.041770  0.721371  1.110312  0.658857   \n",
       "3  2.815803  7.044855  5.844741  0.068870  1.440274  2.139036  1.361270   \n",
       "4  2.230057  3.968952  5.669017  0.007518  2.890220  2.602926 -0.556623   \n",
       "\n",
       "     beta_d   y_model  \n",
       "0  7.776983  6.515877  \n",
       "1  0.007719  5.552898  \n",
       "2  0.390965  5.372992  \n",
       "3  0.866305  5.893895  \n",
       "4  0.119031  5.697808  "
      ]
     },
     "execution_count": 140,
     "metadata": {},
     "output_type": "execute_result"
    }
   ],
   "source": [
    "data.head()"
   ]
  },
  {
   "cell_type": "code",
   "execution_count": 141,
   "metadata": {},
   "outputs": [],
   "source": [
    "SSR = sum((data[\"y_model\"] - y_mean)**2)\n",
    "SSD = sum((data[\"y_model\"] - data[\"y\"])**2)\n",
    "SST = sum((data[\"y\"] - y_mean)**2)"
   ]
  },
  {
   "cell_type": "code",
   "execution_count": 142,
   "metadata": {},
   "outputs": [
    {
     "data": {
      "text/plain": [
       "(76.30855704287632, 71.65388708912396, 147.96244413200017)"
      ]
     },
     "execution_count": 142,
     "metadata": {},
     "output_type": "execute_result"
    }
   ],
   "source": [
    "SSR, SSD, SST"
   ]
  },
  {
   "cell_type": "code",
   "execution_count": 143,
   "metadata": {},
   "outputs": [
    {
     "data": {
      "text/plain": [
       "0.515729227714027"
      ]
     },
     "execution_count": 143,
     "metadata": {},
     "output_type": "execute_result"
    }
   ],
   "source": [
    "R2 = SSR / SST\n",
    "R2"
   ]
  },
  {
   "cell_type": "code",
   "execution_count": 144,
   "metadata": {},
   "outputs": [
    {
     "data": {
      "text/plain": [
       "Text(0.5,1,'Valor actual  vs Predicción')"
      ]
     },
     "execution_count": 144,
     "metadata": {},
     "output_type": "execute_result"
    },
    {
     "data": {
      "image/png": "[encoded data removed]",
      "text/plain": [
       "<Figure size 432x288 with 1 Axes>"
      ]
     },
     "metadata": {},
     "output_type": "display_data"
    }
   ],
   "source": [
    "y_mean = [np.mean(y) for i in range(1,len(x_lst) + 1)]\n",
    "%matplotlib inline\n",
    "plt.plot(data[\"x\"],data[\"y_pred\"])\n",
    "plt.plot(data[\"x\"],data[\"y\"], \"ro\")\n",
    "plt.plot(data[\"x\"], y_mean, \"g\")\n",
    "plt.plot(data[\"x\"],data[\"y_model\"])\n",
    "plt.title(\"Valor actual  vs Predicción\")"
   ]
  },
  {
   "cell_type": "markdown",
   "metadata": {},
   "source": [
    "## Error estándar de los residuos (RSE)"
   ]
  },
  {
   "cell_type": "code",
   "execution_count": 146,
   "metadata": {},
   "outputs": [
    {
     "data": {
      "text/plain": [
       "0.8550801793716927"
      ]
     },
     "execution_count": 146,
     "metadata": {},
     "output_type": "execute_result"
    }
   ],
   "source": [
    "RSE = np.sqrt(SSD/(len(data)-2))\n",
    "RSE"
   ]
  },
  {
   "cell_type": "code",
   "execution_count": 147,
   "metadata": {},
   "outputs": [
    {
     "data": {
      "text/plain": [
       "5.582310785184846"
      ]
     },
     "execution_count": 147,
     "metadata": {},
     "output_type": "execute_result"
    }
   ],
   "source": [
    "ym = np.mean(data[\"y\"])\n",
    "ym"
   ]
  },
  {
   "cell_type": "code",
   "execution_count": 148,
   "metadata": {},
   "outputs": [
    {
     "data": {
      "text/plain": [
       "0.1531767420834092"
      ]
     },
     "execution_count": 148,
     "metadata": {},
     "output_type": "execute_result"
    }
   ],
   "source": [
    "RSE / ym"
   ]
  },
  {
   "cell_type": "code",
   "execution_count": 149,
   "metadata": {},
   "outputs": [],
   "source": [
    "# Se tiene un error del 15% por lo que no se recomienda el uso de este modelo."
   ]
  }
 ],
 "metadata": {
  "kernelspec": {
   "display_name": "Python 3",
   "language": "python",
   "name": "python3"
  },
  "language_info": {
   "codemirror_mode": {
    "name": "ipython",
    "version": 3
   },
   "file_extension": ".py",
   "mimetype": "text/x-python",
   "name": "python",
   "nbconvert_exporter": "python",
   "pygments_lexer": "ipython3",
   "version": "3.6.5"
  }
 },
 "nbformat": 4,
 "nbformat_minor": 2
}
